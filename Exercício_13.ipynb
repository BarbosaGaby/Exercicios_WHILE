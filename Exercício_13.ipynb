{
  "nbformat": 4,
  "nbformat_minor": 0,
  "metadata": {
    "colab": {
      "provenance": []
    },
    "kernelspec": {
      "name": "python3",
      "display_name": "Python 3"
    },
    "language_info": {
      "name": "python"
    }
  },
  "cells": [
    {
      "cell_type": "code",
      "execution_count": 59,
      "metadata": {
        "colab": {
          "base_uri": "https://localhost:8080/"
        },
        "id": "QIRAmO3f_Soa",
        "outputId": "2c3a8b60-cadd-4828-ef52-2de07b50e52a"
      },
      "outputs": [
        {
          "output_type": "stream",
          "name": "stdout",
          "text": [
            "Digite o salario inicial do funcionario: 1000\n",
            "O salario atual é de: 5.13969332387158e+86\n"
          ]
        }
      ],
      "source": [
        "#Um funcionário de uma empresa recebe aumento salarial anualmente.\n",
        "#Sabe-se que: Esse funcionário foi contratado em 1995, com salário inicial de R$1.000,00;\n",
        "#Em 1996 recebeu aumento de 1,5% sobre seu salário inicial;\n",
        "#A partir de1997 (inclusive), os aumentos salariais sempre correspondem ao dobro do percentual do ano anterior.\n",
        "#Faça um programa que determine o salário atual desse funcionário.\n",
        "#Após concluir isto, altere o programa permitindo que o usuário digite o salário inicial do funcionário.\n",
        "\n",
        "salario_inicio = float(input(\"Digite o salario inicial do funcionario: \"))\n",
        "ano_inicio = 1995\n",
        "salario_atual = salario_inicio\n",
        "ano_atual = ano_inicio + 1\n",
        "percentual = 0.015\n",
        "\n",
        "while ano_atual < 2025:\n",
        " percentual *= 2\n",
        " salario_atual += salario_atual* percentual\n",
        " ano_atual += 1\n",
        "print(f\"O salario atual é de: {salario_atual}\")"
      ]
    }
  ]
}