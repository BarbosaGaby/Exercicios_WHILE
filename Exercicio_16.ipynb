{
  "nbformat": 4,
  "nbformat_minor": 0,
  "metadata": {
    "colab": {
      "provenance": []
    },
    "kernelspec": {
      "name": "python3",
      "display_name": "Python 3"
    },
    "language_info": {
      "name": "python"
    }
  },
  "cells": [
    {
      "cell_type": "code",
      "execution_count": 19,
      "metadata": {
        "colab": {
          "base_uri": "https://localhost:8080/"
        },
        "id": "IdfCUxA48zYx",
        "outputId": "d90c8408-b6fd-43f5-95f5-3ef97f13336d"
      },
      "outputs": [
        {
          "output_type": "stream",
          "name": "stdout",
          "text": [
            "Digite seu nome: gaby\n",
            "Digite sua senha: gaby\n",
            "Erro. Sua senha nao pode ser seu nome de usuario, dígite outra senha: lua\n",
            "Cadastro concluido.\n"
          ]
        }
      ],
      "source": [
        "#Faça um programa que leia um nome de usuário e a sua senha e não aceite a  senha igual ao nome do usuário, mostrando uma mensagem de erro e voltando a  pedir as informações.\n",
        "nome = (input(\"Digite seu nome: \"))\n",
        "senha = (input(\"Digite sua senha: \"))\n",
        "while senha == nome:\n",
        "  senha = (input(\"Erro. Sua senha nao pode ser seu nome de usuario, dígite outra senha: \"))\n",
        "print(\"Cadastro concluido.\")"
      ]
    }
  ]
}