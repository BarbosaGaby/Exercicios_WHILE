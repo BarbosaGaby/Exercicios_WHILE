{
  "nbformat": 4,
  "nbformat_minor": 0,
  "metadata": {
    "colab": {
      "provenance": []
    },
    "kernelspec": {
      "name": "python3",
      "display_name": "Python 3"
    },
    "language_info": {
      "name": "python"
    }
  },
  "cells": [
    {
      "cell_type": "code",
      "execution_count": 46,
      "metadata": {
        "colab": {
          "base_uri": "https://localhost:8080/"
        },
        "id": "QIRAmO3f_Soa",
        "outputId": "8e90f3c0-069f-4a7f-93c0-3ef2ac5f4592"
      },
      "outputs": [
        {
          "output_type": "stream",
          "name": "stdout",
          "text": [
            "Quantas notas vc deseja listar?: 3\n",
            "Digite a 1 nota: 10\n",
            "Digite a 2 nota: 9\n",
            "Digite a 3 nota: 8\n",
            "A média das notas é: 9.0\n"
          ]
        }
      ],
      "source": [
        "#Faça um programa que calcule o mostre a média aritmética de N notas.\n",
        "\n",
        "limite=int(input(\"Quantas notas vc deseja listar?: \"))\n",
        "soma=0\n",
        "contador = 0\n",
        "while contador < limite:\n",
        " lista = int(input(f\"Digite a {contador+1} nota: \"))\n",
        " contador+=1\n",
        " soma += lista\n",
        " media = soma/limite\n",
        "\n",
        "print(f\"A média das notas é: {media}\")"
      ]
    }
  ]
}