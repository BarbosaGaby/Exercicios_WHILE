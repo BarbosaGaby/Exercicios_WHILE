{
  "nbformat": 4,
  "nbformat_minor": 0,
  "metadata": {
    "colab": {
      "provenance": []
    },
    "kernelspec": {
      "name": "python3",
      "display_name": "Python 3"
    },
    "language_info": {
      "name": "python"
    }
  },
  "cells": [
    {
      "cell_type": "code",
      "execution_count": 29,
      "metadata": {
        "colab": {
          "base_uri": "https://localhost:8080/"
        },
        "id": "QIRAmO3f_Soa",
        "outputId": "77239d92-7bf1-4cb8-8dcf-73f6128b1a7b"
      },
      "outputs": [
        {
          "output_type": "stream",
          "name": "stdout",
          "text": [
            "Digite a senha: sol\n",
            "Senha incorreta, digite novamente: lunar\n",
            "Senha correta.\n"
          ]
        }
      ],
      "source": [
        "#Escreva um programa que solicite ao usuário que insira uma senha. O programa deve continuar solicitando a senha até que o usuário insira a senha correta.\n",
        "# Define a senha correta\n",
        "# Solicita ao usuário que insira uma senha e armazena o valor\n",
        "# Entra em um loop while enquanto a senha inserida não for ig\n",
        "# Se a senha inserida for diferente da senha correta, imp\n",
        "# Solicita novamente ao usuário que insira a senha e atual\n",
        "# Quando a senha inserida for igual à senha correta, imprime\n",
        "\n",
        "senha = \"lunar\"\n",
        "tentativa = (input(\"Digite a senha: \"))\n",
        "while tentativa != senha:\n",
        " tentativa = (input(\"Senha incorreta, digite novamente: \"))\n",
        "print (\"Senha correta.\")\n"
      ]
    }
  ]
}