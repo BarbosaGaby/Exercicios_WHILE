{
  "nbformat": 4,
  "nbformat_minor": 0,
  "metadata": {
    "colab": {
      "provenance": []
    },
    "kernelspec": {
      "name": "python3",
      "display_name": "Python 3"
    },
    "language_info": {
      "name": "python"
    }
  },
  "cells": [
    {
      "cell_type": "code",
      "execution_count": 34,
      "metadata": {
        "colab": {
          "base_uri": "https://localhost:8080/"
        },
        "id": "QIRAmO3f_Soa",
        "outputId": "1824c57e-228c-41d6-c2cb-03d1c290901a"
      },
      "outputs": [
        {
          "output_type": "stream",
          "name": "stdout",
          "text": [
            "Digite um número: 5\n",
            "Digite outro número e quando quiser parar digite 0:  5\n",
            "Digite outro número e quando quiser parar digite 0:  5\n",
            "Digite outro número e quando quiser parar digite 0:  0\n",
            "A soma dos números é 15.0\n"
          ]
        }
      ],
      "source": [
        "#Escreva um programa que solicite ao usuário que insira números até que ele insira o número 0.\n",
        "#Em seguida, imprima a soma de todos os números inseridos.\n",
        "# Inicializa a variável 'soma' para armazenar a soma dos núme\n",
        "# Solicita ao usuário que insira um número inicial e converte\n",
        "# Entra em um loop while enquanto o número inserido pelo usuá\n",
        "# Adiciona o número inserido à soma\n",
        "# Solicita ao usuário que insira outro número e atualiza o\n",
        "# Quando o usuário insere o número 0 para sair do loop, imprim\n",
        "\n",
        "soma = 0\n",
        "numero = float(input(\"Digite um número: \"))\n",
        "while numero != 0:\n",
        "  soma += numero\n",
        "  numero = float(input(\"Digite outro número e quando quiser parar digite 0:  \"))\n",
        "print(f\"A soma dos números é {soma}\")\n"
      ]
    }
  ]
}