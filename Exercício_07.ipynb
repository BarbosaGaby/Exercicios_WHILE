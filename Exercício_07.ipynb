{
  "nbformat": 4,
  "nbformat_minor": 0,
  "metadata": {
    "colab": {
      "provenance": []
    },
    "kernelspec": {
      "name": "python3",
      "display_name": "Python 3"
    },
    "language_info": {
      "name": "python"
    }
  },
  "cells": [
    {
      "cell_type": "code",
      "execution_count": 19,
      "metadata": {
        "colab": {
          "base_uri": "https://localhost:8080/"
        },
        "id": "QIRAmO3f_Soa",
        "outputId": "fa5c0b44-d3bd-4517-c983-bbe81a128a9c"
      },
      "outputs": [
        {
          "output_type": "stream",
          "name": "stdout",
          "text": [
            "Digite um numero: 9\n",
            "9 X 1 = 9\n",
            "9 X 2 = 18\n",
            "9 X 3 = 27\n",
            "9 X 4 = 36\n",
            "9 X 5 = 45\n",
            "9 X 6 = 54\n",
            "9 X 7 = 63\n",
            "9 X 8 = 72\n",
            "9 X 9 = 81\n",
            "9 X 10 = 90\n"
          ]
        }
      ],
      "source": [
        "#Escreva um programa que solicite ao usuário que insira um número e, em seguida, imprima a tabuada desse número até 10.\n",
        "# Solicita ao usuário que insira um número e converte o valor\n",
        "# Inicializa a variável 'contador' com o valor 1 # Imprime o cabeçalho indicando qual é a tabuada do número in\n",
        "# Entra em um loop while enquanto 'contador' for menor ou igua\n",
        "# Calcula o resultado da multiplicação entre 'numero' e 'c\n",
        "# Imprime a expressão da tabuada ('numero' x 'contador' =   # Incrementa o valor de 'contador' em 1 para passar para a\n",
        "\n",
        "numero = int(input(\"Digite um numero: \"))\n",
        "contador = 1\n",
        "while contador <= 10:\n",
        "  resultado = numero * contador\n",
        "  print(f\"{numero} X {contador} = {resultado}\")\n",
        "  contador +=1"
      ]
    }
  ]
}