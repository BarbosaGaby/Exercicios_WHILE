{
  "nbformat": 4,
  "nbformat_minor": 0,
  "metadata": {
    "colab": {
      "provenance": []
    },
    "kernelspec": {
      "name": "python3",
      "display_name": "Python 3"
    },
    "language_info": {
      "name": "python"
    }
  },
  "cells": [
    {
      "cell_type": "code",
      "execution_count": 2,
      "metadata": {
        "colab": {
          "base_uri": "https://localhost:8080/"
        },
        "id": "QIRAmO3f_Soa",
        "outputId": "f5fd99a7-3b50-4fb2-f13a-56737c65ed8a"
      },
      "outputs": [
        {
          "output_type": "stream",
          "name": "stdout",
          "text": [
            "Digite uma nota entre zero e dez: 14\n",
            "Digite um valor valído 45\n",
            "Digite um valor valído 10\n",
            "Sucesso!\n"
          ]
        }
      ],
      "source": [
        "#Exercício 1:\n",
        "#Faça um programa que peca uma nota, entre zero e dez.\n",
        "#Mostre uma mensagem caso o valor seja invalido e continue pedidindo ate que o usuario informe um valor valido.\n",
        "nota = float(input(\"Digite uma nota entre zero e dez: \"))\n",
        "while nota > 10 or nota < 0:\n",
        "  nota = float(input(\"Digite um valor valído \"))\n",
        "print(\"Sucesso!\")"
      ]
    }
  ]
}