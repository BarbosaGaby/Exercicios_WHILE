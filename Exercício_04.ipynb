{
  "nbformat": 4,
  "nbformat_minor": 0,
  "metadata": {
    "colab": {
      "provenance": []
    },
    "kernelspec": {
      "name": "python3",
      "display_name": "Python 3"
    },
    "language_info": {
      "name": "python"
    }
  },
  "cells": [
    {
      "cell_type": "code",
      "execution_count": 11,
      "metadata": {
        "colab": {
          "base_uri": "https://localhost:8080/"
        },
        "id": "QIRAmO3f_Soa",
        "outputId": "6938f523-8d66-4a95-d59c-9c00d2fc9227"
      },
      "outputs": [
        {
          "output_type": "stream",
          "name": "stdout",
          "text": [
            "2\n",
            "4\n",
            "6\n",
            "8\n",
            "10\n",
            "12\n",
            "14\n",
            "16\n",
            "18\n",
            "20\n"
          ]
        }
      ],
      "source": [
        "# Escreva um programa que imprima os números pares de 1 a 20.\n",
        "# Inicializa a variável 'numero' com o valor 2\n",
        "# Entra em um loop while enquanto 'numero' for menor ou igual\n",
        "# Imprime o valor atual de 'numero'\n",
        "# Incrementa o valor de 'numero' em 2 para que o próximo\n",
        "\n",
        "\n",
        "\n",
        "numero = 2\n",
        "while numero <= 20:\n",
        " print(numero)\n",
        " numero += 2"
      ]
    }
  ]
}