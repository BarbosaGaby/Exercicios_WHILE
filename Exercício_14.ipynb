{
  "nbformat": 4,
  "nbformat_minor": 0,
  "metadata": {
    "colab": {
      "provenance": []
    },
    "kernelspec": {
      "name": "python3",
      "display_name": "Python 3"
    },
    "language_info": {
      "name": "python"
    }
  },
  "cells": [
    {
      "cell_type": "code",
      "execution_count": 75,
      "metadata": {
        "colab": {
          "base_uri": "https://localhost:8080/"
        },
        "id": "QIRAmO3f_Soa",
        "outputId": "e28ed08c-bf4f-49dd-f0ac-420e715e05d1"
      },
      "outputs": [
        {
          "output_type": "stream",
          "name": "stdout",
          "text": [
            "INICIAR LOGIN\n",
            "                                        \n",
            "Digite seu nome: gaby\n",
            "Nome válido!\n",
            "                                        \n",
            "Digite sua idade: 17\n",
            "Idade valida!\n",
            "                                        \n",
            "Informe seu salario: 1200\n",
            "Informaçao válida.\n",
            "                                        \n",
            "Informe seu genero:  F(feminino) ou M(masculino). f\n",
            "Genero válido!\n",
            "                                        \n",
            "Informe seu estado cívil:  S(solteiro/a), C(casado/a), V(viuvo/a), D(divorciado/a)s\n",
            "Estado cívil válido.\n",
            "                                        \n",
            "LOGIN CONCLUÍDO!\n"
          ]
        }
      ],
      "source": [
        "#Faça um programa que leia e valide as seguintes informações:\n",
        "# Nome: maior que 3 caracteres;\n",
        "# Idade: entre 0 e 150;\n",
        "# Salário: maior que zero;\n",
        "# Sexo: 'f' ou 'm';\n",
        "# Estado Civil: 's', 'c', 'v', 'd';\n",
        "print(\"INICIAR LOGIN\")\n",
        "print(\" \"*40)\n",
        "\n",
        "nome = (input(\"Digite seu nome: \"))\n",
        "while len(nome) <4:\n",
        "  nome = (input(\"Erro. Digite um nome com mais de 3 letras: \"))\n",
        "print(\"Nome válido!\")\n",
        "print(\" \"*40)\n",
        "\n",
        "idade = float(input(\"Digite sua idade: \"))\n",
        "while idade <= 0 or idade >= 150:\n",
        "  idade = int(input(\"Erro. Digite uma idade valida: \"))\n",
        "print(\"Idade valida!\")\n",
        "print(\" \"*40)\n",
        "\n",
        "salario = float(input(\"Informe seu salario: \"))\n",
        "while salario < 0:\n",
        "  salario = float(input(\"Por favor, informe seu salario: \"))\n",
        "print(\"Informaçao válida.\")\n",
        "print(\" \"*40)\n",
        "\n",
        "sexo = (input(\"Informe seu genero:  F(feminino) ou M(masculino). \"))\n",
        "while sexo != \"f\" and sexo != \"F\" and sexo != \"m\" and sexo != \"M\":\n",
        "  sexo = (input(\"Erro. Por favor informe seu genero novamente: \"))\n",
        "print(\"Genero válido!\")\n",
        "print(\" \"*40)\n",
        "\n",
        "estado = (input(\"Informe seu estado cívil:  S(solteiro/a), C(casado/a), V(viuvo/a), D(divorciado/a)\"))\n",
        "while estado != \"s\" and estado != \"S\" and estado != \"c\" and estado != \"C\" and estado != \"v\" and estado != \"V\" and estado != \"d\" and estado != \"D\":\n",
        "  estado = (input(\"Error. Escreva um estado cívil válido: \"))\n",
        "print(\"Estado cívil válido.\")\n",
        "print(\" \"*40)\n",
        "\n",
        "print(\"LOGIN CONCLUÍDO!\")"
      ]
    }
  ]
}