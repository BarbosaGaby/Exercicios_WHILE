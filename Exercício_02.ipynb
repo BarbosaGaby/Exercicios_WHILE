{
  "nbformat": 4,
  "nbformat_minor": 0,
  "metadata": {
    "colab": {
      "provenance": []
    },
    "kernelspec": {
      "name": "python3",
      "display_name": "Python 3"
    },
    "language_info": {
      "name": "python"
    }
  },
  "cells": [
    {
      "cell_type": "code",
      "execution_count": 8,
      "metadata": {
        "colab": {
          "base_uri": "https://localhost:8080/"
        },
        "id": "QIRAmO3f_Soa",
        "outputId": "d50480b9-c92a-4372-bfbb-48fd265b78db"
      },
      "outputs": [
        {
          "output_type": "stream",
          "name": "stdout",
          "text": [
            "Digite seu nome: gaby\n",
            "Digite sua senha: gaby\n",
            "Erro. Sua senha nao pode ser seu nome de usuario. Preencha novamente as informacoes: gaby\n",
            "Senha: lunar\n",
            "Cadastro concluido.\n"
          ]
        }
      ],
      "source": [
        "# Solicita ao usuário que insira o nome de usuário e armaze na o valor em 'nome'\n",
        "# Solicita ao usuário que insira a senha e armazena o valor em 'senha'\n",
        "# Entra em um loop enquanto a senha for igual ao nome de us uário\n",
        " # Se a senha for igual ao nome de usuário, imprime uma mensagem de erro\n",
        " # Solicita ao usuário que insira novamente o nome de us uário e a senha\n",
        "\n",
        "nome = (input(\"Digite seu nome: \"))\n",
        "senha = (input(\"Digite sua senha: \"))\n",
        "while senha == nome:\n",
        "  nota = (input(\"Erro. Sua senha nao pode ser seu nome de usuario. Preencha novamente as informaçoes: \"))\n",
        "  senha = (input(\"Senha: \"))\n",
        "print(\"Cadastro concluido.\")"
      ]
    }
  ]
}