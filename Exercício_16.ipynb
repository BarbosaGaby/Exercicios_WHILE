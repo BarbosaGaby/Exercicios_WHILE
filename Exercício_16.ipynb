{
  "nbformat": 4,
  "nbformat_minor": 0,
  "metadata": {
    "colab": {
      "provenance": []
    },
    "kernelspec": {
      "name": "python3",
      "display_name": "Python 3"
    },
    "language_info": {
      "name": "python"
    }
  },
  "cells": [
    {
      "cell_type": "code",
      "execution_count": 1,
      "metadata": {
        "colab": {
          "base_uri": "https://localhost:8080/"
        },
        "id": "QIRAmO3f_Soa",
        "outputId": "085a24cb-e4e2-4e1f-db3d-db4861a1f1a4"
      },
      "outputs": [
        {
          "output_type": "stream",
          "name": "stdout",
          "text": [
            "Digite uma nota entre zero e dez: -1\n",
            "Digite um valor valído 18\n",
            "Digite um valor valído 10\n",
            "Sucesso!\n"
          ]
        }
      ],
      "source": [
        "#Faça um programa que leia um nome de usuário e a sua senha e não aceite a  senha igual ao nome do usuário, mostrando uma mensagem de erro e voltando a  pedir as informações.\n",
        "nome = (input(\"Digite seu nome: \"))\n",
        "senha = (input(\"Digite sua senha: \"))\n",
        "while senha == nome:\n",
        "  nota = (input(\"Erro. Sua senha nao pode ser seu nome de usuario. Preencha novamente as informaçoes: \"))\n",
        "  senha = (input(\"Senha: \"))\n",
        "print(\"Cadastro concluido.\")"
      ]
    }
  ]
}