{
  "nbformat": 4,
  "nbformat_minor": 0,
  "metadata": {
    "colab": {
      "provenance": []
    },
    "kernelspec": {
      "name": "python3",
      "display_name": "Python 3"
    },
    "language_info": {
      "name": "python"
    }
  },
  "cells": [
    {
      "cell_type": "code",
      "execution_count": 13,
      "metadata": {
        "colab": {
          "base_uri": "https://localhost:8080/"
        },
        "id": "IdfCUxA48zYx",
        "outputId": "6565fd76-b5d8-44e9-c100-0ddb7533acfb"
      },
      "outputs": [
        {
          "output_type": "stream",
          "name": "stdout",
          "text": [
            "ELEIÇÕES PRESIDENCIAIS!\n",
            "--------------------------------------------------\n",
            "Tabela dos candidatos e seus respectivos números:\n",
            " 1- José \n",
            " 2- João \n",
            " 3- Jorel \n",
            " 4- Josué \n",
            " 5- Voto nulo \n",
            " 6- Voto em Branco\n",
            "--------------------------------------------------\n",
            "Digite o número correspondente ao seu voto: 1\n",
            "Digite o número correspondente ao seu voto: 2\n",
            "Digite o número correspondente ao seu voto: 3\n",
            "Digite o número correspondente ao seu voto: 4\n",
            "Digite o número correspondente ao seu voto: 5\n",
            "Digite o número correspondente ao seu voto: 6\n",
            "Digite o número correspondente ao seu voto: 6\n",
            "Digite o número correspondente ao seu voto: 0\n",
            "--------------------------------------------------\n",
            "O total de votos é: 7\n",
            " Votos para Candidato 1: 1\n",
            " Votos para Candidato 2: 1\n",
            " Votos para Candidato 3: 1\n",
            " Votos para Candidato 4: 1\n",
            " Votos Nulos: 1\n",
            " Votos em Branco: 2 \n",
            "O percentual de votos nulos é de: 14.29 % \n",
            " O percentual de votos nulos é de: 14.29 %  \n"
          ]
        }
      ],
      "source": [
        "print(\"ELEIÇÕES PRESIDENCIAIS!\")\n",
        "print(\"-\"*50)\n",
        "print(\"Tabela dos candidatos e seus respectivos números:\\n 1- José \\n 2- João \\n 3- Jorel \\n 4- Josué \\n 5- Voto nulo \\n 6- Voto em Branco\")\n",
        "print(\"-\"*50)\n",
        "jose = 0\n",
        "joao = 0\n",
        "jorel = 0\n",
        "josue = 0\n",
        "nulo = 0\n",
        "branco = 0\n",
        "total = 0\n",
        "voto = int(input(f\"Digite o número correspondente ao seu voto: \"))\n",
        "\n",
        "while voto != 0:\n",
        "  total += 1\n",
        "\n",
        "  if voto == 1:\n",
        "    jose += 1\n",
        "  elif voto == 2:\n",
        "    joao += 1\n",
        "  elif voto == 3:\n",
        "    jorel += 1\n",
        "  elif voto == 4:\n",
        "    josue += 1\n",
        "  elif voto == 5:\n",
        "    nulo += 1\n",
        "  elif voto == 6:\n",
        "    branco += 1\n",
        "  voto = int(input(f\"Digite o número correspondente ao seu voto: \"))\n",
        "\n",
        "media_nulo = nulo / total * 100\n",
        "media_branco = branco / total * 100\n",
        "\n",
        "print(\"-\"*50)\n",
        "print(f\"O total de votos é: {total}\\n Votos para Candidato 1: {jose}\\n Votos para Candidato 2: {joao}\\n Votos para Candidato 3: {jorel}\\n Votos para Candidato 4: {josue}\\n Votos Nulos: {nulo}\\n Votos em Branco: {branco} \")\n",
        "print(f\"O percentual de votos nulos é de: {media_nulo:.2f} % \\n O percentual de votos nulos é de: {media_nulo:.2f} %  \")\n"
      ]
    }
  ]
}