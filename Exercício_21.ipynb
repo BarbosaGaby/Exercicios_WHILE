{
  "nbformat": 4,
  "nbformat_minor": 0,
  "metadata": {
    "colab": {
      "provenance": []
    },
    "kernelspec": {
      "name": "python3",
      "display_name": "Python 3"
    },
    "language_info": {
      "name": "python"
    }
  },
  "cells": [
    {
      "cell_type": "markdown",
      "source": [
        "O Sr. Manoel Joaquim expandiu seus negócios para além dos negócios de 1,99 e\n",
        "agora possui uma loja de conveniências. Faça um programa que implemente uma\n",
        "caixa registradora rudimentar.\n",
        "\n",
        " O programa deverá receber um número desconhecido de valores referentes\n",
        "aos preços das mercadorias. Um valor zero deve ser informado pelo\n",
        "operador para indicar o final da compra.\n",
        "\n",
        " O programa deve então mostrar o total da compra e perguntar o valor em\n",
        "dinheiro que o cliente forneceu, para então calcular e mostrar o valor do\n",
        "troco. Após esta operação, o programa deverá voltar ao ponto inicial, para\n",
        "registrar a próxima compra.\n",
        "\n",
        " A saída deve ser conforme o exemplo abaixo:\n",
        "\n",
        " Lojas Tabajara\n",
        "\n",
        " Produto 1: R$ 2.20\n",
        "\n",
        " Produto 2: R$ 5.80\n",
        "\n",
        " Produto 3: R$ 0\n",
        "\n",
        " Total: R$ 9.00\n",
        "\n",
        " Dinheiro: R$ 20.00\n",
        "\n",
        " Troco: R$ 11.00"
      ],
      "metadata": {
        "id": "AOJ6aZ059UUi"
      }
    },
    {
      "cell_type": "code",
      "execution_count": 34,
      "metadata": {
        "colab": {
          "base_uri": "https://localhost:8080/"
        },
        "id": "QIRAmO3f_Soa",
        "outputId": "4fcccb07-6934-44c8-bfd1-4363f118b0eb"
      },
      "outputs": [
        {
          "output_type": "stream",
          "name": "stdout",
          "text": [
            "--BEM VINDO(A) AS LOJAS TABAJARA--\n",
            "                                        \n",
            "Produto 1: 100\n",
            "Produto 2: 322\n",
            "Produto 3: 999\n",
            "Produto 4: 4000\n",
            "Produto 5: 0\n",
            "                                        \n",
            "Valor total: 5421.0 R$\n",
            "                                        \n",
            "Valor em dinheiro dado: 5500\n",
            "Troco: 79.0R$\n"
          ]
        }
      ],
      "source": [
        "print(\"--BEM VINDO(A) AS LOJAS TABAJARA--\")\n",
        "print(\" \"*40)\n",
        "soma = 0\n",
        "contador = 0\n",
        "compra =float(input(f\"Produto {contador+1}: \"))\n",
        "while contador < compra:\n",
        " soma += compra\n",
        " contador +=1\n",
        " compra = float(input(f\"Produto {contador+1}: \"))\n",
        "print(\" \"*40)\n",
        "print(f\"Valor total: {soma} R$\")\n",
        "print(\" \"*40)\n",
        "dinheiro = float(input(\"Valor em dinheiro dado: \"))\n",
        "troco = dinheiro-soma\n",
        "print(f\"Troco: {troco}R$\")\n",
        "#nao consigui fazer retornar"
      ]
    }
  ]
}