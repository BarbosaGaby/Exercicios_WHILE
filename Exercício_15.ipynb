{
  "nbformat": 4,
  "nbformat_minor": 0,
  "metadata": {
    "colab": {
      "provenance": []
    },
    "kernelspec": {
      "name": "python3",
      "display_name": "Python 3"
    },
    "language_info": {
      "name": "python"
    }
  },
  "cells": [
    {
      "cell_type": "code",
      "execution_count": 1,
      "metadata": {
        "colab": {
          "base_uri": "https://localhost:8080/"
        },
        "id": "QIRAmO3f_Soa",
        "outputId": "085a24cb-e4e2-4e1f-db3d-db4861a1f1a4"
      },
      "outputs": [
        {
          "output_type": "stream",
          "name": "stdout",
          "text": [
            "Digite uma nota entre zero e dez: -1\n",
            "Digite um valor valído 18\n",
            "Digite um valor valído 10\n",
            "Sucesso!\n"
          ]
        }
      ],
      "source": [
        "\n",
        "#Faça um programa que peca uma nota, entre zero e dez.\n",
        "#Mostre uma mensagem caso o valor seja invalido e continue pedidindo ate que o usuario informe um valor valido.\n",
        "nota = float(input(\"Digite uma nota entre zero e dez: \"))\n",
        "while nota > 10 or nota < 0:\n",
        "  nota = float(input(\"Digite um valor valído \"))\n",
        "print(\"Sucesso!\")"
      ]
    }
  ]
}