{
  "nbformat": 4,
  "nbformat_minor": 0,
  "metadata": {
    "colab": {
      "provenance": []
    },
    "kernelspec": {
      "name": "python3",
      "display_name": "Python 3"
    },
    "language_info": {
      "name": "python"
    }
  },
  "cells": [
    {
      "cell_type": "code",
      "execution_count": 17,
      "metadata": {
        "colab": {
          "base_uri": "https://localhost:8080/"
        },
        "id": "QIRAmO3f_Soa",
        "outputId": "5cbccf5a-cc6f-4bde-d92e-de02957d8079"
      },
      "outputs": [
        {
          "output_type": "stream",
          "name": "stdout",
          "text": [
            "Digite um numero: 15\n",
            "2\n",
            "4\n",
            "6\n",
            "8\n",
            "10\n",
            "12\n",
            "14\n"
          ]
        }
      ],
      "source": [
        "# Escreva um programa que solicite ao usuário que insira um número e, em seguida, imprima todos os números pares de 2 até esse número.\n",
        "# Solicita ao usuário que insira um número e converte o valor\n",
        "# Inicializa a variável 'contador' com o valor 2 (primeiro núm\n",
        " # Entra em um loop while enquanto 'contador' for menor ou igua\n",
        "# Imprime o valor atual de 'contador' (um número par)\n",
        "# Incrementa o valor de 'contador' em 2 para que o próximo\n",
        "\n",
        "\n",
        "\n",
        "\n",
        "numero = int(input(\"Digite um numero: \"))\n",
        "contador = 2\n",
        "while contador <= numero:\n",
        " print(contador)\n",
        " contador += 2"
      ]
    }
  ]
}