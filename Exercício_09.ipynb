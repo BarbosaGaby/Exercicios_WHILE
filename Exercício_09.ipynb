{
  "nbformat": 4,
  "nbformat_minor": 0,
  "metadata": {
    "colab": {
      "provenance": []
    },
    "kernelspec": {
      "name": "python3",
      "display_name": "Python 3"
    },
    "language_info": {
      "name": "python"
    }
  },
  "cells": [
    {
      "cell_type": "code",
      "execution_count": 31,
      "metadata": {
        "colab": {
          "base_uri": "https://localhost:8080/"
        },
        "id": "QIRAmO3f_Soa",
        "outputId": "1ea4e6c7-8a10-446c-e0c8-58a9fdee4175"
      },
      "outputs": [
        {
          "output_type": "stream",
          "name": "stdout",
          "text": [
            "Sua lista tera quantos numeros?: 6\n",
            "Digite o 1 numero: 9\n",
            "Digite o 2 numero: 3\n",
            "Digite o 3 numero: 4\n",
            "Digite o 4 numero: 5\n",
            "Digite o 5 numero: 8\n",
            "Digite o 6 numero: 1\n",
            "A soma dos numeros: 30 \n",
            " média dos numeros: 5.0\n"
          ]
        }
      ],
      "source": [
        "#Escreva um programa que calcule a média de uma lista de números fornecida pelo usuário.\n",
        "# Solicita ao usuário que insira a quantidade de números que d\n",
        "# Inicializa a variável 'soma' para armazenar a soma dos núm\n",
        "# Inicializa a variável 'contador' para contar quantos número\n",
        "# Entra em um loop while enquanto 'contador' for menor que a q\n",
        "# Solicita ao usuário que insira um número e converte o va\n",
        "# Adiciona o número inserido à soma\n",
        "# Incrementa o contador para indicar que um número foi in\n",
        "# Calcula a média dos números inseridos dividindo a soma pelo\n",
        "# Imprime a média dos números inseridos\n",
        "limite=int(input(\"Sua lista tera quantos numeros?: \"))\n",
        "soma=0\n",
        "contador = 0\n",
        "while contador < limite:\n",
        " lista = int(input(f\"Digite o {contador+1} numero: \"))\n",
        " contador+=1\n",
        " soma += lista\n",
        " media = soma/limite\n",
        "\n",
        "print(f\"A soma dos numeros: {soma} \\n média dos numeros: {media}\")\n"
      ]
    }
  ]
}