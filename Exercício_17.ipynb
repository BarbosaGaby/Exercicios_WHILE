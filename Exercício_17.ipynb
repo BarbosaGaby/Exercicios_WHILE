{
  "nbformat": 4,
  "nbformat_minor": 0,
  "metadata": {
    "colab": {
      "provenance": []
    },
    "kernelspec": {
      "name": "python3",
      "display_name": "Python 3"
    },
    "language_info": {
      "name": "python"
    }
  },
  "cells": [
    {
      "cell_type": "code",
      "execution_count": 10,
      "metadata": {
        "colab": {
          "base_uri": "https://localhost:8080/"
        },
        "id": "QIRAmO3f_Soa",
        "outputId": "d4796a7b-7d3d-49b6-9db1-e3bdb4d56d42"
      },
      "outputs": [
        {
          "output_type": "stream",
          "name": "stdout",
          "text": [
            "O pais A superou o Pais B em 63 anos com a diferença de 4068.6858437439078 habitantes. \n"
          ]
        }
      ],
      "source": [
        "#Supondo que a população de um país A seja da ordem de 80000 habitantes com  uma taxa anual de crescimento de 3%\n",
        "#E que a população de B seja 200000  habitantes com uma taxa de crescimento de 1.5%.\n",
        "#Faça um programa que calcule e  escreva o número de anos necessários para que a população do país A ultrapasse\n",
        "#ou iguale a população do país B, mantidas as taxas de crescimento.\n",
        "ano = 0\n",
        "pais_A = 80000\n",
        "pais_B = 200000\n",
        "\n",
        "while pais_A <= pais_B:\n",
        "  pais_A += pais_A * 0.03\n",
        "  pais_B += pais_B * 0.015\n",
        "  ano += 1\n",
        "print(f\"O pais A superou o Pais B em {ano} anos com a diferença de {pais_A - pais_B} habitantes. \")\n"
      ]
    }
  ]
}