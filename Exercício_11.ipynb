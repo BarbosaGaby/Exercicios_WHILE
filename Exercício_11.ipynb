{
  "nbformat": 4,
  "nbformat_minor": 0,
  "metadata": {
    "colab": {
      "provenance": []
    },
    "kernelspec": {
      "name": "python3",
      "display_name": "Python 3"
    },
    "language_info": {
      "name": "python"
    }
  },
  "cells": [
    {
      "cell_type": "code",
      "execution_count": 40,
      "metadata": {
        "colab": {
          "base_uri": "https://localhost:8080/"
        },
        "id": "QIRAmO3f_Soa",
        "outputId": "f05140f7-fa9e-47c8-d8cf-a068f7e51880"
      },
      "outputs": [
        {
          "output_type": "stream",
          "name": "stdout",
          "text": [
            "Digite um número: 22\n",
            "Digite outro número e quando quiser parar digite um número negativo:  656\n",
            "Digite outro número e quando quiser parar digite um número negativo:  99\n",
            "Digite outro número e quando quiser parar digite um número negativo:  321\n",
            "Digite outro número e quando quiser parar digite um número negativo:  000001\n",
            "Digite outro número e quando quiser parar digite um número negativo:  -1\n",
            "O maior número é: 656.0\n"
          ]
        }
      ],
      "source": [
        "#Escreva um programa que solicite ao usuário que insira números até que ele insira um número negativo. Em seguida, imprima o maior número inserido.\n",
        "# Inicializa a variável 'maior_numero' com o menor valor possí\n",
        "# Solicita ao usuário que insira um número inicial e converte\n",
        "# Entra em um loop while enquanto o número inserido pelo usuá\n",
        "# Verifica se o número inserido é maior que o maior número\n",
        "# Se o número inserido for maior, atualiza o valor de\n",
        "# Solicita ao usuário que insira outro número e atualiza o\n",
        "# Verifica se algum número válido foi inserido (ou seja, se 'm\n",
        "# Se algum número válido foi inserido, imprime o maior núm\n",
        "# Se nenhum número válido foi inserido, imprime uma mensag\n",
        "\n",
        "maior_numero = 0\n",
        "numero = float(input(\"Digite um número: \"))\n",
        "while numero > 0:\n",
        "  if numero > maior_numero:\n",
        "   maior_numero = numero\n",
        "  numero = float(input(\"Digite outro número e quando quiser parar digite um número negativo:  \"))\n",
        "print(f\"O maior número é: {maior_numero}\")\n"
      ]
    }
  ]
}