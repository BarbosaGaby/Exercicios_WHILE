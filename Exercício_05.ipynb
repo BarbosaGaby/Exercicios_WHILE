{
  "nbformat": 4,
  "nbformat_minor": 0,
  "metadata": {
    "colab": {
      "provenance": []
    },
    "kernelspec": {
      "name": "python3",
      "display_name": "Python 3"
    },
    "language_info": {
      "name": "python"
    }
  },
  "cells": [
    {
      "cell_type": "code",
      "execution_count": 15,
      "metadata": {
        "colab": {
          "base_uri": "https://localhost:8080/"
        },
        "id": "QIRAmO3f_Soa",
        "outputId": "8ff002a3-35ba-4701-ff96-cd29f6014314"
      },
      "outputs": [
        {
          "output_type": "stream",
          "name": "stdout",
          "text": [
            "Digite um numero: 17\n",
            "1\n",
            "2\n",
            "3\n",
            "4\n",
            "5\n",
            "6\n",
            "7\n",
            "8\n",
            "9\n",
            "10\n",
            "11\n",
            "12\n",
            "13\n",
            "14\n",
            "15\n",
            "16\n",
            "17\n"
          ]
        }
      ],
      "source": [
        "# Escreva um programa que solicite ao usuário que insira um número e, em seguida, imprima todos os números de 1 até esse número.\n",
        "# Solicita ao usuário que insira um número e converte o val\n",
        "# Inicializa a variável 'contador' com o valor 1\n",
        "# Entra em um loop while enquanto 'contador' for menor ou i\n",
        " # Imprime o valor atual de 'contador'\n",
        "# Incrementa o valor de 'contador' em 1 para que o próx\n",
        "\n",
        "\n",
        "\n",
        "\n",
        "numero = int(input(\"Digite um numero: \"))\n",
        "contador = 1\n",
        "while contador <= numero:\n",
        " print(contador)\n",
        " contador += 1"
      ]
    }
  ]
}