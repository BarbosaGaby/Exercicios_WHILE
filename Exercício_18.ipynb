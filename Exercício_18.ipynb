{
  "nbformat": 4,
  "nbformat_minor": 0,
  "metadata": {
    "colab": {
      "provenance": []
    },
    "kernelspec": {
      "name": "python3",
      "display_name": "Python 3"
    },
    "language_info": {
      "name": "python"
    }
  },
  "cells": [
    {
      "cell_type": "code",
      "execution_count": 19,
      "metadata": {
        "colab": {
          "base_uri": "https://localhost:8080/"
        },
        "id": "QIRAmO3f_Soa",
        "outputId": "6478f1ae-9500-4343-97a2-6f3cfd491ae3"
      },
      "outputs": [
        {
          "output_type": "stream",
          "name": "stdout",
          "text": [
            "Digite um número: 15\n",
            "O fatoria de 15! é = 1307674368000\n"
          ]
        }
      ],
      "source": [
        "#. Faça um programa que calcule o fatorial de um número inteiro fornecido pelo  usuário. Ex.: 5!=5.4.3.2.1=120\n",
        "numero = int(input(\"Digite um número: \"))\n",
        "fatorial = 1\n",
        "i = 1\n",
        "if numero == 0:\n",
        "  print(\"O fatorial de 0 é = 1\")\n",
        "while i <= numero:\n",
        "  fatorial = fatorial*i\n",
        "  i = i+1\n",
        "print(f\"O fatoria de {numero}! é = {fatorial}\")"
      ]
    }
  ]
}