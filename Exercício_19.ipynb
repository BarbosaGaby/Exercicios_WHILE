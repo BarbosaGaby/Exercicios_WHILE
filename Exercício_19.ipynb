{
  "nbformat": 4,
  "nbformat_minor": 0,
  "metadata": {
    "colab": {
      "provenance": []
    },
    "kernelspec": {
      "name": "python3",
      "display_name": "Python 3"
    },
    "language_info": {
      "name": "python"
    }
  },
  "cells": [
    {
      "cell_type": "code",
      "execution_count": 24,
      "metadata": {
        "colab": {
          "base_uri": "https://localhost:8080/"
        },
        "id": "QIRAmO3f_Soa",
        "outputId": "54436a29-5fed-4d5d-8b5d-6e0116a76334"
      },
      "outputs": [
        {
          "output_type": "stream",
          "name": "stdout",
          "text": [
            "Digite um número: 2\n",
            "Digite outro número e quando quiser parar digite 0:  2\n",
            "Digite outro número e quando quiser parar digite 0:  2\n",
            "Digite outro número e quando quiser parar digite 0:  2\n",
            "Digite outro número e quando quiser parar digite 0:  2\n",
            "Digite outro número e quando quiser parar digite 0:  0\n",
            "A media dos números é 2.0\n"
          ]
        }
      ],
      "source": [
        "# Faça um programa que solicite ao usuário números indefinidamente até que ele  digite 0.\n",
        "#Em seguida, o programa deve imprimir a média dos números digitados.\n",
        "\n",
        "soma = 0\n",
        "contador = 0\n",
        "numero = float(input(\"Digite um número: \"))\n",
        "while numero != 0:\n",
        "  soma += numero\n",
        "  contador +=1\n",
        "  media= soma/contador\n",
        "  numero = float(input(\"Digite outro número e quando quiser parar digite 0:  \"))\n",
        "print(f\"A media dos números é {media}\")\n"
      ]
    }
  ]
}