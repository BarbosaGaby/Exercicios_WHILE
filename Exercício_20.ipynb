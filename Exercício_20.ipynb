{
  "nbformat": 4,
  "nbformat_minor": 0,
  "metadata": {
    "colab": {
      "provenance": []
    },
    "kernelspec": {
      "name": "python3",
      "display_name": "Python 3"
    },
    "language_info": {
      "name": "python"
    }
  },
  "cells": [
    {
      "cell_type": "code",
      "execution_count": 26,
      "metadata": {
        "colab": {
          "base_uri": "https://localhost:8080/"
        },
        "id": "QIRAmO3f_Soa",
        "outputId": "3d072cf3-617a-4ede-d6de-e0689771e760"
      },
      "outputs": [
        {
          "output_type": "stream",
          "name": "stdout",
          "text": [
            "Que termo voce deseja encontrar da sequencia de Fibonacci?: 11\n",
            "89\n"
          ]
        }
      ],
      "source": [
        "# A série de Fibonacci é formada pela sequência 1,1,2,3,5,8,13,21,34,55,...\n",
        "#Faça um  programa capaz de gerar a série até o n−ésimo termo.\n",
        "\n",
        "n = int(input(\"Que termo voce deseja encontrar da sequencia de Fibonacci?: \"))\n",
        "ultimo=1\n",
        "penultimo=1\n",
        "\n",
        "if n==1 or n==2:\n",
        " print(\"1\")\n",
        "else:\n",
        "    a=3\n",
        "while a <= n:\n",
        " termo = ultimo + penultimo\n",
        " penultimo = ultimo\n",
        " ultimo = termo\n",
        " a += 1\n",
        "print(termo)"
      ]
    }
  ]
}